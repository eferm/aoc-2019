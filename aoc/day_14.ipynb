{
 "cells": [
  {
   "cell_type": "code",
   "execution_count": 1,
   "metadata": {
    "scrolled": false
   },
   "outputs": [
    {
     "name": "stdout",
     "output_type": "stream",
     "text": [
      "Found cached input for 2019 day 14\n",
      "10 LSZLT, 29 XQJK => 4 BMRQJ\n",
      "22 HCKS => 1 GQKCZ\n",
      "1 HCKS, 8 WZWRV, 18 HVZR => 7 BGFR\n",
      "1 LSZLT, 1 WR\n"
     ]
    }
   ],
   "source": [
    "import utils\n",
    "raw = utils.get_input(2019, 14)[:-1]\n",
    "print(raw[:96])"
   ]
  },
  {
   "cell_type": "code",
   "execution_count": 2,
   "metadata": {},
   "outputs": [
    {
     "data": {
      "text/plain": [
       "337862"
      ]
     },
     "execution_count": 2,
     "metadata": {},
     "output_type": "execute_result"
    }
   ],
   "source": [
    "import math\n",
    "from collections import defaultdict\n",
    "\n",
    "\n",
    "def parse(raw):\n",
    "    graph = {}\n",
    "    for line in raw.split('\\n'):\n",
    "        inps, outs = map(lambda s: s.split(', '), line.split(' => '))\n",
    "        n, node = outs[0].split(' ')\n",
    "        graph[node] = (n, list(map(lambda s: s.split(' ')[::-1], inps)))\n",
    "    return graph\n",
    "\n",
    "\n",
    "def get_ores(graph, node, num, spares=None):\n",
    "    spares = spares or defaultdict(int)\n",
    "\n",
    "    def _spares(spares, node, num):\n",
    "        remaining = max(spares[node] - num, 0)\n",
    "        use_spares = spares[node] - remaining\n",
    "        spares[node] = remaining\n",
    "        return spares, num - use_spares\n",
    "\n",
    "    spares, num = _spares(spares, node, num)\n",
    "    min_ = int(graph[node][0]) if node in graph else 1\n",
    "    mult = math.ceil(num / min_)\n",
    "    spares[node] += (min_ * mult) - num\n",
    "    \n",
    "    if node == 'ORE':\n",
    "        return num\n",
    "\n",
    "    return sum(get_ores(graph, req, mult * int(n), spares)\n",
    "               for req, n in graph[node][1])\n",
    "\n",
    "\n",
    "graph = parse(raw)\n",
    "get_ores(graph, 'FUEL', 1)"
   ]
  },
  {
   "cell_type": "code",
   "execution_count": 3,
   "metadata": {},
   "outputs": [
    {
     "data": {
      "text/plain": [
       "3687786"
      ]
     },
     "execution_count": 3,
     "metadata": {},
     "output_type": "execute_result"
    }
   ],
   "source": [
    "def max_fuel(ores):\n",
    "    denom = iter(range(1, ores))\n",
    "    i = ores / 2**next(denom)\n",
    "    prev = 0\n",
    "\n",
    "    while True:\n",
    "        fuel = get_ores(graph, 'FUEL', int(i))\n",
    "\n",
    "        if fuel == prev and prev <= fuel <= ores:\n",
    "            return int(i)\n",
    "\n",
    "        if fuel < ores:\n",
    "            i += ores / 2**next(denom)\n",
    "        elif fuel > ores:\n",
    "            i -= ores / 2**next(denom)\n",
    "\n",
    "        prev = fuel\n",
    "\n",
    "max_fuel(1000000000000)"
   ]
  },
  {
   "cell_type": "code",
   "execution_count": null,
   "metadata": {},
   "outputs": [],
   "source": []
  }
 ],
 "metadata": {
  "kernelspec": {
   "display_name": "Python 3",
   "language": "python",
   "name": "python3"
  },
  "language_info": {
   "codemirror_mode": {
    "name": "ipython",
    "version": 3
   },
   "file_extension": ".py",
   "mimetype": "text/x-python",
   "name": "python",
   "nbconvert_exporter": "python",
   "pygments_lexer": "ipython3",
   "version": "3.6.8"
  }
 },
 "nbformat": 4,
 "nbformat_minor": 2
}
