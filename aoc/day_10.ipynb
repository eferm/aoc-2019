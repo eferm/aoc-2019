{
 "cells": [
  {
   "cell_type": "code",
   "execution_count": 1,
   "metadata": {
    "scrolled": false
   },
   "outputs": [
    {
     "name": "stdout",
     "output_type": "stream",
     "text": [
      "Found cached input for 2019 day 10\n",
      ".#..#\n",
      ".....\n",
      "#####\n",
      "....#\n",
      "...##\n"
     ]
    }
   ],
   "source": [
    "import utils\n",
    "inp = utils.get_input(2019, 10)[:-1]\n",
    "inp = \"\"\".#..#\n",
    ".....\n",
    "#####\n",
    "....#\n",
    "...##\"\"\"\n",
    "print(inp)"
   ]
  },
  {
   "cell_type": "code",
   "execution_count": 50,
   "metadata": {},
   "outputs": [
    {
     "name": "stdout",
     "output_type": "stream",
     "text": [
      "{ast(x=1, y=2): Fraction(315, 1), ast(x=3, y=2): Fraction(0, 1), ast(x=4, y=4): Fraction(90, 1), ast(x=4, y=3): Fraction(45, 1), ast(x=2, y=2): Fraction(1466462413350793, 4398046511104), ast(x=4, y=2): Fraction(1869349290346353, 70368744177664), ast(x=1, y=0): Fraction(1466462413350793, 4398046511104), ast(x=0, y=2): Fraction(2671286083879147, 8796093022208), ast(x=4, y=0): Fraction(3950851303239703, 281474976710656)}\n"
     ]
    },
    {
     "data": {
      "text/plain": [
       "True"
      ]
     },
     "execution_count": 50,
     "metadata": {},
     "output_type": "execute_result"
    }
   ],
   "source": [
    "import math\n",
    "from fractions import Fraction\n",
    "from itertools import groupby\n",
    "from collections import namedtuple\n",
    "\n",
    "ast = namedtuple('ast', ['x', 'y'])\n",
    "\n",
    "\n",
    "def parse(inp):\n",
    "    asteroids = set()\n",
    "    for y, row in enumerate(inp.split('\\n')):\n",
    "        for x, pt in enumerate(row):\n",
    "            if pt == '#':\n",
    "                asteroids.add(ast(x, y))\n",
    "    return asteroids\n",
    "\n",
    "\n",
    "def angle(a, b):\n",
    "    # y grows 'downwards'\n",
    "    return math.degrees(math.atan2(b.x - a.x, a.y - b.y)) % 360\n",
    "    \n",
    "\n",
    "def lines(asteroids, a):\n",
    "    others = asteroids - {a}\n",
    "    angles = map(lambda b: angle(a, b), others)\n",
    "    angles = map(Fraction, angles)\n",
    "    angles = zip(others, angles)\n",
    "    return dict(angles)\n",
    "\n",
    "\n",
    "asteroids = parse(inp)\n",
    "x = lines(asteroids, ast(3,4))\n",
    "print(x)\n",
    "# print(list(groupby(x, x.get)))\n",
    "# [(a, list(b)) for a, b in groupby(x, x.get)]\n",
    "x[ast(2,2)] == x[ast(1,0)]"
   ]
  },
  {
   "cell_type": "code",
   "execution_count": 15,
   "metadata": {
    "scrolled": false
   },
   "outputs": [
    {
     "name": "stdout",
     "output_type": "stream",
     "text": [
      "1401\n"
     ]
    }
   ],
   "source": [
    "import math\n",
    "import numpy as np\n",
    "from copy import deepcopy\n",
    "from operator import itemgetter\n",
    "from pprint import pprint\n",
    "from itertools import repeat, chain, cycle\n",
    "from functools import partial\n",
    "from collections import defaultdict, OrderedDict\n",
    "\n",
    "\n",
    "sign = partial(math.copysign, 1)\n",
    "\n",
    "\n",
    "class memoize(dict):\n",
    "    def __init__(self, func):\n",
    "        self.func = func\n",
    "\n",
    "    def __call__(self, *args):\n",
    "        return self[args]\n",
    "\n",
    "    def __missing__(self, key):\n",
    "        result = self[key] = self.func(*key)\n",
    "        return result\n",
    "\n",
    "\n",
    "rows = inp.split('\\n')\n",
    "m = list(map(list, rows))\n",
    "asteroids = {}\n",
    "\n",
    "for x in range(len(m)):\n",
    "    for y in range(len(m[0])):\n",
    "        if m[y][x] == '#':\n",
    "            asteroids[(x, y)] = True\n",
    "#             asteroids.append((x, y))\n",
    "\n",
    "\n",
    "# print(asteroids)\n",
    "\n",
    "# @memoize\n",
    "def perimeter(a, d):\n",
    "    l = []\n",
    "    for x in range(max(a[0] - d, 0), min(a[0] + d + 1, len(m))):\n",
    "        for y in range(max(a[1] - d, 0), min(a[1] + d + 1, len(m))):\n",
    "            l.append((x, y))\n",
    "    return [x for x in l if x in asteroids]\n",
    "\n",
    "# @memoize\n",
    "def line(a, b):\n",
    "    def find_min(n, step):\n",
    "        if step > 0:\n",
    "            while (n - step) >= 0:\n",
    "                n -= step\n",
    "        return n\n",
    "\n",
    "    k_x = b[0] - a[0]\n",
    "    k_y = b[1] - a[1]\n",
    "    m_x = min(a[0], b[0])\n",
    "    m_y = min(a[1], b[1])\n",
    "    scale = max(abs(k_x), abs(k_y))\n",
    "    l = []\n",
    "    \n",
    "    x_sign = int(sign(b[0] - a[0]))\n",
    "    y_sign = int(sign(b[1] - a[1]))\n",
    "\n",
    "    x_add = repeat(scale * a[0]) if abs(k_x) < abs(k_y) else []\n",
    "    y_add = repeat(scale * a[1]) if abs(k_y) < abs(k_x) else []\n",
    "    for x_, y_ in zip(\n",
    "        chain(range(scale * a[0], scale * b[0] + x_sign, k_x or x_sign), x_add),\n",
    "        chain(range(scale * a[1], scale * b[1] + y_sign, k_y or y_sign), y_add)\n",
    "    ):\n",
    "        l.append((x_ / scale, y_ / scale))\n",
    "    return [x for x in l if x != a]\n",
    "\n",
    "\n",
    "def clear(a, b):\n",
    "    on_line = line(a, b)\n",
    "    for i in range(len(m)):\n",
    "        on_perimeter = perimeter(a, i)\n",
    "        if set(on_perimeter).intersection(on_line):\n",
    "            if b in on_perimeter:\n",
    "                return True\n",
    "            return False\n",
    "    return False\n",
    "\n",
    "\n",
    "def angles(a):\n",
    "    res = OrderedDict({})\n",
    "    for y in range(0, len(m)):\n",
    "        for x in range(0, len(m)):\n",
    "            if a != (x, y):\n",
    "                if a[1] == y:\n",
    "                    res[(x,y)] = 90.0 if x > a[0] else 270.0\n",
    "                elif a[0] == x:\n",
    "                    res[(x,y)] = 0.0 if y < a[1] else 180.0\n",
    "                else:\n",
    "                    t = math.degrees(math.atan2((x - a[0]), (a[1] - y)))\n",
    "                    if t < 0:\n",
    "                        t += 360\n",
    "                    res[(x,y)] = t\n",
    "    return res\n",
    "\n",
    "\n",
    "clockwise = angles((11,19))\n",
    "clockwise = {k: v for k, v in clockwise.items() if k in asteroids}\n",
    "clockwise = OrderedDict(sorted(clockwise.items(), key=itemgetter(1)))\n",
    "\n",
    "\n",
    "def manhattan(a, b):\n",
    "    return abs(b[0] - a[0]) + abs(b[1] - a[1])\n",
    "    \n",
    "\n",
    "def part_2(start):\n",
    "    l = []\n",
    "    queue = deepcopy(clockwise)\n",
    "    for a in cycle(clockwise):\n",
    "        if (a in queue) and queue != start:\n",
    "            on_line = [x for x in line(start, a) if x in queue]\n",
    "            dists = map(lambda t: manhattan(start, t), on_line)\n",
    "            if manhattan(start, a) <= min(dists):\n",
    "                if clear(start, a):\n",
    "#                     print(len(queue))\n",
    "                    l.append(a)\n",
    "                    del queue[a]\n",
    "                    del asteroids[a]\n",
    "        if len(l) >= 299:\n",
    "            break\n",
    "    return l\n",
    "\n",
    "res = part_2((11,19))[298]\n",
    "print(res[0] * 100 + res[1])"
   ]
  },
  {
   "cell_type": "code",
   "execution_count": 113,
   "metadata": {},
   "outputs": [
    {
     "name": "stdout",
     "output_type": "stream",
     "text": [
      "[((11, 19), 253)]\n"
     ]
    }
   ],
   "source": [
    "detect = defaultdict(list)\n",
    "for a in asteroids:\n",
    "    for b in asteroids:\n",
    "        if (a != b) and clear(a, b):\n",
    "            detect[a].append(b)\n",
    "\n",
    "pprint([(k, len(v)) for k, v in detect.items() if len(v) == max(map(len, detect.values()))])\n"
   ]
  },
  {
   "cell_type": "code",
   "execution_count": null,
   "metadata": {},
   "outputs": [],
   "source": []
  }
 ],
 "metadata": {
  "kernelspec": {
   "display_name": "Python 3",
   "language": "python",
   "name": "python3"
  },
  "language_info": {
   "codemirror_mode": {
    "name": "ipython",
    "version": 3
   },
   "file_extension": ".py",
   "mimetype": "text/x-python",
   "name": "python",
   "nbconvert_exporter": "python",
   "pygments_lexer": "ipython3",
   "version": "3.6.8"
  }
 },
 "nbformat": 4,
 "nbformat_minor": 2
}
