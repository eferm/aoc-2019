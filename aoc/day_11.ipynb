{
 "cells": [
  {
   "cell_type": "code",
   "execution_count": 39,
   "metadata": {
    "scrolled": false
   },
   "outputs": [
    {
     "name": "stdout",
     "output_type": "stream",
     "text": [
      "Found cached input for 2019 day 11\n",
      "3,8,1005,8,361,1106,0,11,0,0,0,104,1,104,0,3,8,102,-1,8,10,101,1,10,10,4,10,108,0,8,10,4,10,1001\n"
     ]
    }
   ],
   "source": [
    "import utils\n",
    "inp = utils.get_input(2019, 11)[:-1]\n",
    "print(inp[:96])"
   ]
  },
  {
   "cell_type": "code",
   "execution_count": 2,
   "metadata": {},
   "outputs": [
    {
     "data": {
      "text/plain": [
       "True"
      ]
     },
     "execution_count": 2,
     "metadata": {},
     "output_type": "execute_result"
    }
   ],
   "source": [
    "from collections import namedtuple\n",
    "\n",
    "coord = namedtuple('coord', ['x', 'y', 'z'])\n",
    "a = coord(1,2,3)\n",
    "b = coord(4,5,6)\n",
    "m = {0: (a, b)}\n",
    "from copy import deepcopy\n",
    "n = deepcopy(m)\n",
    "\n",
    "m == n"
   ]
  },
  {
   "cell_type": "markdown",
   "metadata": {},
   "source": [
    "## machine"
   ]
  },
  {
   "cell_type": "code",
   "execution_count": 2,
   "metadata": {},
   "outputs": [],
   "source": [
    "import operator\n",
    "from functools import partial\n",
    "from itertools import repeat, chain\n",
    "from collections import namedtuple, defaultdict\n",
    "\n",
    "\n",
    "class IntCode:\n",
    "    Op = namedtuple('Op', ['func', 'params', 'resolve_last_as_ptr'])\n",
    "\n",
    "    def __init__(self, program, pointer=0, rel_base=0, **kwargs):\n",
    "        self._mem = defaultdict(int, enumerate(program))\n",
    "        self.ptr = pointer\n",
    "        self.rel = rel_base\n",
    "        self.state = \"started\"\n",
    "        self.output = None\n",
    "        self._kwargs = kwargs\n",
    "        self._ops = {\n",
    "            1: IntCode.Op(partial(IntCode._math, operator.add), 3, True),\n",
    "            2: IntCode.Op(partial(IntCode._math, operator.mul), 3, True),\n",
    "            3: IntCode.Op(IntCode._inp, 1, True),\n",
    "            4: IntCode.Op(IntCode._out, 1, False),\n",
    "            5: IntCode.Op(partial(IntCode._jump, lambda x: x != 0), 2, False),\n",
    "            6: IntCode.Op(partial(IntCode._jump, lambda x: x == 0), 2, False),\n",
    "            7: IntCode.Op(partial(IntCode._math, operator.lt), 3, True),\n",
    "            8: IntCode.Op(partial(IntCode._math, operator.eq), 3, True),\n",
    "            9: IntCode.Op(IntCode._base, 1, False),\n",
    "            99: IntCode.Op(IntCode._halt, 0, False),\n",
    "        }\n",
    "\n",
    "    @property\n",
    "    def mem(self):\n",
    "        return list(self._mem.values())\n",
    "\n",
    "    def run(self, inputs=None):\n",
    "        inputs = iter(inputs or [])\n",
    "\n",
    "        while self.state != \"halted\":\n",
    "            instruction = self._mem[self.ptr]\n",
    "            opcode, modes = self._opcode(instruction), self._modes(instruction)\n",
    "            op = self._ops[opcode]\n",
    "            params_raw = [self._mem[i] for i in range(self.ptr + 1, self.ptr + op.params + 1)]\n",
    "            params = self.resolve(params_raw, modes, op.resolve_last_as_ptr)\n",
    "\n",
    "            orig_ptr = self.ptr\n",
    "            self._mem, self.ptr, self.rel, output, self.state = \\\n",
    "                op.func(self._mem, self.ptr, self.rel, *params, inputs=inputs, **self._kwargs)\n",
    "            self.output = output if output is not None else self.output\n",
    "\n",
    "            if self._kwargs.get('_debug', False):\n",
    "                print(f\"{instruction},{','.join(map(str, params_raw))}\",\n",
    "                      f\"-> {opcode:2d} {modes} {params}\",\n",
    "                      f\"-> {output, self.ptr, self.rel}\")\n",
    "\n",
    "            if (output is not None) or (self.state == \"blocked\"):\n",
    "                yield self\n",
    "\n",
    "            if self.ptr == orig_ptr:\n",
    "                self.ptr = self.ptr + op.params + 1\n",
    "        yield self\n",
    "\n",
    "    def resolve(self, params, modes, resolve_last_as_ptr):\n",
    "        def _resolve(p, m, as_ptr):\n",
    "            if int(m) == 0:\n",
    "                return self._mem[p] if not as_ptr else p\n",
    "            elif int(m) == 2:\n",
    "                return self._mem[self.rel + p] if not as_ptr else self.rel + p\n",
    "            return p\n",
    "        resolve_as_ptr = chain(repeat(False, len(params) - 1), [resolve_last_as_ptr])\n",
    "        return list(map(lambda t: _resolve(*t), zip(params, modes, resolve_as_ptr)))\n",
    "\n",
    "    @staticmethod\n",
    "    def _opcode(instruction):\n",
    "        return int(str(instruction)[-2:])\n",
    "\n",
    "    @staticmethod\n",
    "    def _modes(instruction):\n",
    "        return f\"{instruction:05d}\"[:3][::-1]\n",
    "    \n",
    "    # operations\n",
    "    \n",
    "    @staticmethod\n",
    "    def _math(func, mem, ptr, rel, a, b, out, **kwargs):\n",
    "        mem[out] = int(func(a, b))\n",
    "        return mem, ptr, rel, None, \"running\"\n",
    "\n",
    "    @staticmethod\n",
    "    def _inp(mem, ptr, rel, out, inputs, **kwargs):\n",
    "        try:\n",
    "            mem[out] = int(next(inputs))\n",
    "            return mem, ptr, rel, None, \"running\"\n",
    "        except StopIteration:\n",
    "            return mem, ptr, rel, None, \"blocked\"\n",
    "\n",
    "    @staticmethod\n",
    "    def _out(mem, ptr, rel, val, **kwargs):\n",
    "        return mem, ptr, rel, val, \"running\"\n",
    "\n",
    "    @staticmethod\n",
    "    def _jump(func, mem, ptr, rel, cond, val, **kwargs):\n",
    "        return mem, (val if func(cond) else ptr), rel, None, \"running\"\n",
    "\n",
    "    @staticmethod\n",
    "    def _base(mem, ptr, rel, val, **kwargs):\n",
    "        return mem, ptr, (rel + val), None, \"running\"\n",
    "    \n",
    "    @staticmethod\n",
    "    def _halt(mem, ptr, rel, *args, **kwargs):\n",
    "        return mem, ptr, rel, None, \"halted\"\n"
   ]
  },
  {
   "cell_type": "code",
   "execution_count": 64,
   "metadata": {},
   "outputs": [],
   "source": [
    "from collections import namedtuple\n",
    "\n",
    "\n",
    "Coords = namedtuple('Coords', ['x', 'y'])\n",
    "Vector = namedtuple('Vector', ['coords', 'direction'])\n",
    "Panel = namedtuple('Panel', ['color', 'painted'])\n",
    "\n",
    "def turn_and_move(curr, turn_to):\n",
    "    if curr.direction == '^':\n",
    "        if turn_to == 0:\n",
    "            return Vector(Coords(curr.coords.x - 1, curr.coords.y), '<')\n",
    "        elif turn_to == 1:\n",
    "            return Vector(Coords(curr.coords.x + 1, curr.coords.y), '>')\n",
    "    if curr.direction == '<':\n",
    "        if turn_to == 0:\n",
    "            return Vector(Coords(curr.coords.x, curr.coords.y + 1), 'v')\n",
    "        elif turn_to == 1:\n",
    "            return Vector(Coords(curr.coords.x, curr.coords.y - 1), '^')\n",
    "    if curr.direction == 'v':\n",
    "        if turn_to == 0:\n",
    "            return Vector(Coords(curr.coords.x + 1, curr.coords.y), '>')\n",
    "        elif turn_to == 1:\n",
    "            return Vector(Coords(curr.coords.x - 1, curr.coords.y), '<')\n",
    "    if curr.direction == '>':\n",
    "        if turn_to == 0:\n",
    "            return Vector(Coords(curr.coords.x, curr.coords.y - 1), '^')\n",
    "        elif turn_to == 1:\n",
    "            return Vector(Coords(curr.coords.x, curr.coords.y + 1), 'v')\n",
    "\n",
    "\n",
    "panels = defaultdict(lambda: Panel(0, 0))\n",
    "\n",
    "curr = Vector(Coords(0, 0), '^')\n",
    "panels[curr.coords] = Panel(1, 0)\n",
    "\n",
    "program = list(map(int, inp.split(',')))\n",
    "inputs = [panels[curr.coords].color]\n",
    "\n",
    "vm = IntCode(program)\n",
    "vm_gen = vm.run(inputs)\n",
    "\n",
    "while True:\n",
    "    try:\n",
    "        vm = next(vm_gen)\n",
    "        clr = vm.output\n",
    "\n",
    "        vm = next(vm_gen)\n",
    "        vec = vm.output\n",
    "\n",
    "        panels[curr.coords] = Panel(clr, 1)\n",
    "        curr = turn_and_move(curr, vec)\n",
    "\n",
    "        inputs.append(panels[curr.coords].color)\n",
    "    except StopIteration:\n",
    "        break\n"
   ]
  },
  {
   "cell_type": "code",
   "execution_count": 81,
   "metadata": {},
   "outputs": [
    {
     "name": "stdout",
     "output_type": "stream",
     "text": [
      "#    ###  #### ####  ##   ##  #### ####\n",
      "#    #  #    # #    #  # #  # #    #   \n",
      "#    #  #   #  ###  #    #    ###  ### \n",
      "#    ###   #   #    #    # ## #    #   \n",
      "#    # #  #    #    #  # #  # #    #   \n",
      "#### #  # #### ####  ##   ### #    ####\n"
     ]
    }
   ],
   "source": [
    "# print(panels)\n",
    "painted = [k for k, v in panels.items() if v.color and v.painted]\n",
    "\n",
    "xs = list(map(lambda p: p.x, painted))\n",
    "ys = list(map(lambda p: p.y, painted))\n",
    "\n",
    "img = []\n",
    "\n",
    "for y in range(min(ys), max(ys) + 1):\n",
    "    row = []\n",
    "    for x in range(min(xs), max(xs) + 1):\n",
    "        row.append('#' if Coords(x, y) in painted else ' ')\n",
    "    img.append(''.join(row))\n",
    "\n",
    "\n",
    "print('\\n'.join(img))\n"
   ]
  },
  {
   "cell_type": "code",
   "execution_count": 68,
   "metadata": {},
   "outputs": [],
   "source": [
    "# LRZECGFE"
   ]
  },
  {
   "cell_type": "code",
   "execution_count": 69,
   "metadata": {},
   "outputs": [
    {
     "data": {
      "text/plain": [
       "249"
      ]
     },
     "execution_count": 69,
     "metadata": {},
     "output_type": "execute_result"
    }
   ],
   "source": [
    "sum([v.painted for k, v in panels.items()])"
   ]
  },
  {
   "cell_type": "code",
   "execution_count": null,
   "metadata": {},
   "outputs": [],
   "source": []
  }
 ],
 "metadata": {
  "kernelspec": {
   "display_name": "Python 3",
   "language": "python",
   "name": "python3"
  },
  "language_info": {
   "codemirror_mode": {
    "name": "ipython",
    "version": 3
   },
   "file_extension": ".py",
   "mimetype": "text/x-python",
   "name": "python",
   "nbconvert_exporter": "python",
   "pygments_lexer": "ipython3",
   "version": "3.6.8"
  }
 },
 "nbformat": 4,
 "nbformat_minor": 2
}
